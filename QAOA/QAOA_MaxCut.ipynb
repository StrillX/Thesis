{
 "cells": [
  {
   "cell_type": "code",
   "execution_count": 10,
   "id": "53d79e18-2ead-4936-b576-15e431250468",
   "metadata": {},
   "outputs": [],
   "source": [
    "import pennylane as qml\n",
    "from pennylane import numpy as np\n",
    "\n",
    "np.random.seed(42)\n"
   ]
  },
  {
   "cell_type": "code",
   "execution_count": 11,
   "id": "2d4e0076-a19d-4d21-821c-19845d2c523f",
   "metadata": {},
   "outputs": [],
   "source": [
    "n_wires = 4\n",
    "graph = [(0, 1), (1, 2), (1, 3), (2, 3)]\n",
    "\n",
    "# unitary operator U_B with parameter beta\n",
    "def U_B(beta):\n",
    "    for wire in range(n_wires):\n",
    "        qml.RX(2 * beta, wires=wire)\n",
    "\n",
    "\n",
    "# unitary operator U_C with parameter gamma\n",
    "def U_C(gamma):\n",
    "    for edge in graph:\n",
    "        wire1 = edge[0]\n",
    "        wire2 = edge[1]\n",
    "        qml.CNOT(wires=[wire1, wire2])\n",
    "        qml.RZ(gamma, wires=wire2)\n",
    "        qml.CNOT(wires=[wire1, wire2])\n"
   ]
  },
  {
   "cell_type": "code",
   "execution_count": 33,
   "id": "87eb3a39-5915-4396-8f91-0082a2d93265",
   "metadata": {},
   "outputs": [
    {
     "data": {
      "image/png": "[encoded data removed]",
      "text/plain": [
       "<Figure size 640x480 with 1 Axes>"
      ]
     },
     "metadata": {},
     "output_type": "display_data"
    }
   ],
   "source": [
    "import networkx as nx\n",
    "graph = nx.Graph(graph)\n",
    "\n",
    "nx.draw(graph, with_labels=True)\n",
    "plt.show()"
   ]
  },
  {
   "cell_type": "code",
   "execution_count": 12,
   "id": "4185109b-7c27-4240-a979-8a3beffea81b",
   "metadata": {},
   "outputs": [],
   "source": [
    "def bitstring_to_int(bit_string_sample):\n",
    "    bit_string = \"\".join(str(bs) for bs in bit_string_sample)\n",
    "    return int(bit_string, base=2)\n"
   ]
  },
  {
   "cell_type": "code",
   "execution_count": 13,
   "id": "54c7770f-2e29-449d-8c3a-08ccef627c5e",
   "metadata": {},
   "outputs": [],
   "source": [
    "dev = qml.device(\"lightning.qubit\", wires=n_wires, shots=1)\n"
   ]
  },
  {
   "cell_type": "code",
   "execution_count": 14,
   "id": "0cc38e32-c0a3-42d8-97f9-955665baa39c",
   "metadata": {},
   "outputs": [],
   "source": [
    "@qml.qnode(dev)\n",
    "def circuit(gammas, betas, edge=None, n_layers=1):\n",
    "    # apply Hadamards to get the n qubit |+> state\n",
    "    for wire in range(n_wires):\n",
    "        qml.Hadamard(wires=wire)\n",
    "    # p instances of unitary operators\n",
    "    for i in range(n_layers):\n",
    "        U_C(gammas[i])\n",
    "        U_B(betas[i])\n",
    "    if edge is None:\n",
    "        # measurement phase\n",
    "        return qml.sample()\n",
    "    # during the optimization phase we are evaluating a term\n",
    "    # in the objective using expval\n",
    "    H = qml.PauliZ(edge[0]) @ qml.PauliZ(edge[1])\n",
    "    return qml.expval(H)\n"
   ]
  },
  {
   "cell_type": "code",
   "execution_count": 34,
   "id": "7550d73a-6328-41fb-a096-b3dea597281d",
   "metadata": {},
   "outputs": [
    {
     "ename": "NameError",
     "evalue": "name 'params' is not defined",
     "output_type": "error",
     "traceback": [
      "\u001b[0;31m---------------------------------------------------------------------------\u001b[0m",
      "\u001b[0;31mNameError\u001b[0m                                 Traceback (most recent call last)",
      "Cell \u001b[0;32mIn[34], line 5\u001b[0m\n\u001b[1;32m      1\u001b[0m \u001b[38;5;28;01mimport\u001b[39;00m \u001b[38;5;21;01mpyzx\u001b[39;00m \u001b[38;5;28;01mas\u001b[39;00m \u001b[38;5;21;01mzx\u001b[39;00m\n\u001b[1;32m      3\u001b[0m dev \u001b[38;5;241m=\u001b[39m qml\u001b[38;5;241m.\u001b[39mdevice(\u001b[38;5;124m'\u001b[39m\u001b[38;5;124mdefault.qubit\u001b[39m\u001b[38;5;124m'\u001b[39m, wires \u001b[38;5;241m=\u001b[39m \u001b[38;5;241m4\u001b[39m)\n\u001b[0;32m----> 5\u001b[0m g \u001b[38;5;241m=\u001b[39m circuit(\u001b[43mparams\u001b[49m)\n\u001b[1;32m      6\u001b[0m \u001b[38;5;28mprint\u001b[39m(g\u001b[38;5;241m.\u001b[39mdepth())\n\u001b[1;32m      7\u001b[0m zx\u001b[38;5;241m.\u001b[39mdraw(g)\n",
      "\u001b[0;31mNameError\u001b[0m: name 'params' is not defined"
     ]
    }
   ],
   "source": [
    "import pyzx as zx\n",
    "\n",
    "dev = qml.device('default.qubit', wires = 4)\n",
    "\n",
    "g = circuit(params)\n",
    "print(g.depth())\n",
    "zx.draw(g)\n",
    "graph = zx.extract_simple(g).to_graph()\n",
    "zx.settings.tikzit_location = \"/usr/bin/tikzit\"\n",
    "zx.tikz.tikzit(graph)"
   ]
  },
  {
   "cell_type": "code",
   "execution_count": 17,
   "id": "06ad8a67-ecc9-4fdf-9bd5-1083aa6d59db",
   "metadata": {},
   "outputs": [
    {
     "name": "stdout",
     "output_type": "stream",
     "text": [
      "\n",
      "p=1\n",
      "Objective after step     5:  3.0000000\n",
      "Objective after step    10:  4.0000000\n",
      "Objective after step    15:  3.0000000\n",
      "Objective after step    20:  2.0000000\n",
      "Objective after step    25:  4.0000000\n",
      "Objective after step    30:  3.0000000\n",
      "Optimized (gamma, beta) vectors:\n",
      "[[-0.61423139]\n",
      " [ 0.3881602 ]]\n",
      "Most frequently sampled bit string is: 0100\n",
      "\n",
      "p=2\n",
      "Objective after step     5:  4.0000000\n",
      "Objective after step    10:  4.0000000\n",
      "Objective after step    15:  2.0000000\n",
      "Objective after step    20:  4.0000000\n",
      "Objective after step    25:  1.0000000\n",
      "Objective after step    30:  3.0000000\n",
      "Optimized (gamma, beta) vectors:\n",
      "[[0.4953303  0.65735307]\n",
      " [1.14195471 1.4825727 ]]\n",
      "Most frequently sampled bit string is: 0110\n",
      "\n",
      "p=3\n",
      "Objective after step     5:  3.0000000\n",
      "Objective after step    10:  1.0000000\n",
      "Objective after step    15:  4.0000000\n",
      "Objective after step    20:  2.0000000\n",
      "Objective after step    25:  2.0000000\n",
      "Objective after step    30:  4.0000000\n",
      "Optimized (gamma, beta) vectors:\n",
      "[[-0.07575814  0.00492696 -0.6092253 ]\n",
      " [ 0.54552069 -0.16714082  0.21383385]]\n",
      "Most frequently sampled bit string is: 1010\n"
     ]
    }
   ],
   "source": [
    "def qaoa_maxcut(n_layers=1):\n",
    "    print(\"\\np={:d}\".format(n_layers))\n",
    "\n",
    "    # initialize the parameters near zero\n",
    "    init_params = 0.01 * np.random.rand(2, n_layers, requires_grad=True)\n",
    "\n",
    "    # minimize the negative of the objective function\n",
    "    def objective(params):\n",
    "        gammas = params[0]\n",
    "        betas = params[1]\n",
    "        neg_obj = 0\n",
    "        for edge in graph:\n",
    "            # objective for the MaxCut problem\n",
    "            neg_obj -= 0.5 * (1 - circuit(gammas, betas, edge=edge, n_layers=n_layers))\n",
    "        return neg_obj\n",
    "\n",
    "    # initialize optimizer: Adagrad works well empirically\n",
    "    opt = qml.AdagradOptimizer(stepsize=0.5)\n",
    "\n",
    "    # optimize parameters in objective\n",
    "    params = init_params\n",
    "    steps = 30\n",
    "    for i in range(steps):\n",
    "        params = opt.step(objective, params)\n",
    "        if (i + 1) % 5 == 0:\n",
    "            print(\"Objective after step {:5d}: {: .7f}\".format(i + 1, -objective(params)))\n",
    "\n",
    "    # sample measured bitstrings 100 times\n",
    "    bit_strings = []\n",
    "    n_samples = 100\n",
    "    for i in range(0, n_samples):\n",
    "        bit_strings.append(bitstring_to_int(circuit(params[0], params[1], edge=None, n_layers=n_layers)))\n",
    "\n",
    "    # print optimal parameters and most frequently sampled bitstring\n",
    "    counts = np.bincount(np.array(bit_strings))\n",
    "    most_freq_bit_string = np.argmax(counts)\n",
    "    print(\"Optimized (gamma, beta) vectors:\\n{}\".format(params[:, :n_layers]))\n",
    "    print(\"Most frequently sampled bit string is: {:04b}\".format(most_freq_bit_string))\n",
    "\n",
    "    return -objective(params), bit_strings\n",
    "\n",
    "\n",
    "# perform qaoa on our graph with p=1,2 and\n",
    "# keep the bitstring sample lists\n",
    "bitstrings1 = qaoa_maxcut(n_layers=1)[1]\n",
    "bitstrings2 = qaoa_maxcut(n_layers=2)[1]"
   ]
  },
  {
   "cell_type": "code",
   "execution_count": null,
   "id": "0748643e-36a8-4e74-ba55-cc5f0b526f80",
   "metadata": {},
   "outputs": [],
   "source": []
  }
 ],
 "metadata": {
  "kernelspec": {
   "display_name": "Python 3 (ipykernel)",
   "language": "python",
   "name": "python3"
  },
  "language_info": {
   "codemirror_mode": {
    "name": "ipython",
    "version": 3
   },
   "file_extension": ".py",
   "mimetype": "text/x-python",
   "name": "python",
   "nbconvert_exporter": "python",
   "pygments_lexer": "ipython3",
   "version": "3.10.12"
  }
 },
 "nbformat": 4,
 "nbformat_minor": 5
}
