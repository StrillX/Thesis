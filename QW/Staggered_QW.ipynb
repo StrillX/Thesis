{
 "cells": [
  {
   "cell_type": "code",
   "execution_count": 1,
   "id": "0f2e55c3-4a4c-491a-9054-b062e5c49ffe",
   "metadata": {},
   "outputs": [
    {
     "data": {
      "text/plain": [
       "<qiskit.circuit.instructionset.InstructionSet at 0x78aa22c6f490>"
      ]
     },
     "execution_count": 1,
     "metadata": {},
     "output_type": "execute_result"
    }
   ],
   "source": [
    "from qiskit import QuantumRegister, ClassicalRegister, QuantumCircuit\n",
    "from numpy import pi\n",
    "\n",
    "qreg_q = QuantumRegister(3, 'q')\n",
    "\n",
    "circuit = QuantumCircuit(qreg_q)\n",
    "\n",
    "circuit.cx(qreg_q[0], qreg_q[1])\n",
    "circuit.cx(qreg_q[1], qreg_q[0])\n",
    "circuit.cx(qreg_q[0], qreg_q[1])\n",
    "circuit.h(qreg_q[1])\n",
    "circuit.h(qreg_q[0])\n",
    "circuit.h(qreg_q[0])\n",
    "circuit.cz(qreg_q[0], qreg_q[2])\n",
    "circuit.h(qreg_q[2])\n",
    "circuit.cz(qreg_q[1], qreg_q[2])\n",
    "circuit.cz(qreg_q[0], qreg_q[1])\n",
    "circuit.rz(0.6666666666666666 * pi, qreg_q[1])\n",
    "circuit.h(qreg_q[1])\n",
    "circuit.cz(qreg_q[1], qreg_q[2])\n",
    "circuit.cz(qreg_q[0], qreg_q[1])\n",
    "circuit.rz(1.75 * pi, qreg_q[1])\n",
    "circuit.h(qreg_q[1])\n",
    "circuit.cz(qreg_q[1], qreg_q[2])\n",
    "circuit.cz(qreg_q[0], qreg_q[2])\n",
    "circuit.rz(0.75 * pi, qreg_q[2])\n",
    "circuit.h(qreg_q[2])\n",
    "circuit.cz(qreg_q[0], qreg_q[2])\n",
    "circuit.cz(qreg_q[0], qreg_q[1])\n",
    "circuit.rz(0.25 * pi, qreg_q[0])\n",
    "circuit.h(qreg_q[0])\n",
    "circuit.h(qreg_q[1])\n",
    "circuit.cz(qreg_q[0], qreg_q[1])\n",
    "circuit.rz(0.25 * pi, qreg_q[1])\n",
    "circuit.h(qreg_q[1])\n",
    "circuit.cx(qreg_q[1], qreg_q[2])\n",
    "circuit.rz(1.6666666666666667 * pi, qreg_q[1])\n",
    "circuit.h(qreg_q[1])\n",
    "circuit.rz(0.25 * pi, qreg_q[1])\n",
    "circuit.h(qreg_q[1])\n",
    "circuit.cx(qreg_q[1], qreg_q[2])\n",
    "circuit.h(qreg_q[1])\n",
    "circuit.cz(qreg_q[0], qreg_q[1])\n",
    "circuit.rz(1.75 * pi, qreg_q[1])\n",
    "circuit.h(qreg_q[1])\n",
    "circuit.rz(1.6666666666666667 * pi, qreg_q[1])\n",
    "circuit.h(qreg_q[1])\n",
    "circuit.cx(qreg_q[1], qreg_q[2])\n",
    "circuit.rz(0.25 * pi, qreg_q[1])\n",
    "circuit.h(qreg_q[1])\n",
    "circuit.cx(qreg_q[1], qreg_q[2])\n",
    "circuit.h(qreg_q[1])\n",
    "circuit.rz(1.75 * pi, qreg_q[1])\n",
    "circuit.h(qreg_q[1])\n",
    "circuit.cx(qreg_q[1], qreg_q[0])\n",
    "circuit.rz(0.6666666666666666 * pi, qreg_q[0])\n",
    "circuit.h(qreg_q[0])\n",
    "circuit.rz(1.75 * pi, qreg_q[0])\n",
    "circuit.h(qreg_q[0])\n",
    "circuit.cx(qreg_q[0], qreg_q[2])\n",
    "circuit.h(qreg_q[0])\n",
    "circuit.rz(0.25 * pi, qreg_q[0])\n",
    "circuit.h(qreg_q[0])\n",
    "circuit.cx(qreg_q[0], qreg_q[2])\n",
    "circuit.cx(qreg_q[0], qreg_q[1])\n",
    "circuit.h(qreg_q[0])\n",
    "circuit.rz(1.75 * pi, qreg_q[0])\n",
    "circuit.h(qreg_q[0])\n",
    "circuit.h(qreg_q[2])\n",
    "circuit.cz(qreg_q[1], qreg_q[2])\n",
    "circuit.cz(qreg_q[0], qreg_q[2])\n",
    "circuit.rz(0.5 * pi, qreg_q[2])\n",
    "circuit.h(qreg_q[2])\n",
    "circuit.h(qreg_q[0])\n",
    "circuit.cz(qreg_q[0], qreg_q[1])\n",
    "circuit.rz(1.0 * pi, qreg_q[1])\n",
    "circuit.h(qreg_q[1])\n",
    "circuit.rz(0.25 * pi, qreg_q[0])\n",
    "\n"
   ]
  },
  {
   "cell_type": "code",
   "execution_count": 2,
   "id": "453b3735-1c37-4391-bfc6-39b048cb4c81",
   "metadata": {},
   "outputs": [],
   "source": [
    "import pennylane as qml"
   ]
  },
  {
   "cell_type": "code",
   "execution_count": 3,
   "id": "4fb3e38c-3768-4b10-bbe3-170bcd3a751d",
   "metadata": {},
   "outputs": [],
   "source": [
    "circuit = qml.from_qiskit(circuit)"
   ]
  },
  {
   "cell_type": "code",
   "execution_count": 6,
   "id": "f53e9e60-a8ae-420f-9241-ca49669fc58d",
   "metadata": {},
   "outputs": [
    {
     "ename": "NameError",
     "evalue": "name 'dev' is not defined",
     "output_type": "error",
     "traceback": [
      "\u001b[0;31m---------------------------------------------------------------------------\u001b[0m",
      "\u001b[0;31mNameError\u001b[0m                                 Traceback (most recent call last)",
      "Cell \u001b[0;32mIn[6], line 1\u001b[0m\n\u001b[0;32m----> 1\u001b[0m \u001b[38;5;129m@qml\u001b[39m\u001b[38;5;241m.\u001b[39mqnode(\u001b[43mdev\u001b[49m)\n\u001b[1;32m      2\u001b[0m \u001b[38;5;28;01mdef\u001b[39;00m \u001b[38;5;21mcircuit\u001b[39m(x):\n\u001b[1;32m      3\u001b[0m     \u001b[38;5;66;03m#qml.RX(x, wires=1)\u001b[39;00m\n\u001b[1;32m      4\u001b[0m     circuit(wires\u001b[38;5;241m=\u001b[39m(\u001b[38;5;241m2\u001b[39m, \u001b[38;5;241m1\u001b[39m, \u001b[38;5;241m0\u001b[39m))\n\u001b[1;32m      5\u001b[0m     \u001b[38;5;28;01mreturn\u001b[39;00m qml\u001b[38;5;241m.\u001b[39mexpval(qml\u001b[38;5;241m.\u001b[39mPauliZ(\u001b[38;5;241m0\u001b[39m))\n",
      "\u001b[0;31mNameError\u001b[0m: name 'dev' is not defined"
     ]
    }
   ],
   "source": [
    "@qml.qnode(dev)\n",
    "def circuit(x):\n",
    "    #qml.RX(x, wires=1)\n",
    "    circuit(wires=(2, 1, 0))\n",
    "    return qml.expval(qml.PauliZ(0))"
   ]
  },
  {
   "cell_type": "code",
   "execution_count": null,
   "id": "275ec70a-d355-4df0-b4d4-14a05f15358c",
   "metadata": {},
   "outputs": [],
   "source": []
  }
 ],
 "metadata": {
  "kernelspec": {
   "display_name": "Python 3 (ipykernel)",
   "language": "python",
   "name": "python3"
  },
  "language_info": {
   "codemirror_mode": {
    "name": "ipython",
    "version": 3
   },
   "file_extension": ".py",
   "mimetype": "text/x-python",
   "name": "python",
   "nbconvert_exporter": "python",
   "pygments_lexer": "ipython3",
   "version": "3.10.12"
  }
 },
 "nbformat": 4,
 "nbformat_minor": 5
}
