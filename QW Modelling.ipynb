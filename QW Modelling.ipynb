{
 "cells": [
  {
   "cell_type": "code",
   "execution_count": 1,
   "id": "292dddaf-3e41-4057-84f8-0a806a5959a6",
   "metadata": {},
   "outputs": [],
   "source": [
    "#%pip install qiskit"
   ]
  },
  {
   "cell_type": "code",
   "execution_count": 2,
   "id": "c547f42e-a567-4dfe-9395-f9387e11d62c",
   "metadata": {},
   "outputs": [],
   "source": [
    "from qiskit import QuantumCircuit"
   ]
  },
  {
   "cell_type": "code",
   "execution_count": 14,
   "id": "05bf549f-709f-440e-b292-fbb5e7707a3a",
   "metadata": {},
   "outputs": [
    {
     "name": "stdout",
     "output_type": "stream",
     "text": [
      "OPENQASM 2.0;\n",
      "include \"qelib1.inc\";\n",
      "qreg q[3];\n",
      "x q[0];\n",
      "barrier q[0],q[1],q[2];\n",
      "h q[2];\n",
      "x q[2];\n",
      "cx q[0],q[1];\n",
      "x q[0];\n",
      "x q[2];\n",
      "cx q[1],q[0];\n",
      "x q[1];\n",
      "\n"
     ]
    },
    {
     "name": "stderr",
     "output_type": "stream",
     "text": [
      "/tmp/ipykernel_9273/1962841499.py:20: DeprecationWarning: The method ``qiskit.circuit.quantumcircuit.QuantumCircuit.qasm()`` is deprecated as of qiskit 0.46. It will be removed in the 1.0.0 release. Instead use the qiskit.qasm2.dump() or qiskit.qasm2.dumps() function\n",
      "  print(circ.qasm())\n"
     ]
    }
   ],
   "source": [
    "circ = QuantumCircuit(3)\n",
    "\n",
    "circ.x(0)\n",
    "\n",
    "circ.barrier()\n",
    "\n",
    "circ.h(2)\n",
    "circ.x(2)\n",
    "\n",
    "circ.cx(0,1)\n",
    "circ.x(0)\n",
    "\n",
    "circ.x(2)\n",
    "\n",
    "circ.cx(1,0)\n",
    "circ.x(1)\n",
    "\n",
    "\n",
    "circ.draw(output=\"mpl\")\n",
    "print(circ.qasm())"
   ]
  },
  {
   "cell_type": "code",
   "execution_count": null,
   "id": "5558c3de-d7ce-4ea8-a8e5-d6c8a90fa138",
   "metadata": {},
   "outputs": [],
   "source": []
  }
 ],
 "metadata": {
  "kernelspec": {
   "display_name": "Python 3 (ipykernel)",
   "language": "python",
   "name": "python3"
  },
  "language_info": {
   "codemirror_mode": {
    "name": "ipython",
    "version": 3
   },
   "file_extension": ".py",
   "mimetype": "text/x-python",
   "name": "python",
   "nbconvert_exporter": "python",
   "pygments_lexer": "ipython3",
   "version": "3.10.12"
  }
 },
 "nbformat": 4,
 "nbformat_minor": 5
}
